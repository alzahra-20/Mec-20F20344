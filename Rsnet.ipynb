{
  "cells": [
    {
      "cell_type": "markdown",
      "metadata": {
        "id": "view-in-github",
        "colab_type": "text"
      },
      "source": [
        "<a href=\"https://colab.research.google.com/github/alzahra-20/Mec-20F20344/blob/main/Rsnet.ipynb\" target=\"_parent\"><img src=\"https://colab.research.google.com/assets/colab-badge.svg\" alt=\"Open In Colab\"/></a>"
      ]
    },
    {
      "cell_type": "code",
      "execution_count": null,
      "metadata": {
        "id": "ZPes3szUPAdC"
      },
      "outputs": [],
      "source": []
    },
    {
      "cell_type": "code",
      "execution_count": null,
      "metadata": {
        "colab": {
          "base_uri": "https://localhost:8080/"
        },
        "id": "AVQYOf3kPDVH",
        "outputId": "69f2a73a-a3c2-4cba-ed70-08ae990e7a34"
      },
      "outputs": [
        {
          "name": "stdout",
          "output_type": "stream",
          "text": [
            "Mounted at /content/drive\n"
          ]
        }
      ],
      "source": [
        "from google.colab import drive\n",
        "drive.mount('/content/drive')"
      ]
    },
    {
      "cell_type": "code",
      "execution_count": null,
      "metadata": {
        "id": "YmjJ4xvtPSVQ"
      },
      "outputs": [],
      "source": [
        "# Define paths to the dataset\n",
        "train_dir = '/content/drive/MyDrive/train'  # Update with your actual path\n",
        "test_dir = '/content/drive/MyDrive/test'    # Update with your actual path"
      ]
    },
    {
      "cell_type": "code",
      "execution_count": null,
      "metadata": {
        "colab": {
          "base_uri": "https://localhost:8080/"
        },
        "id": "EUH2wKhXPbzw",
        "outputId": "61f03bd2-ceda-40d0-f904-518f78755097"
      },
      "outputs": [
        {
          "name": "stdout",
          "output_type": "stream",
          "text": [
            "506\n",
            "545\n",
            "256\n",
            "264\n"
          ]
        }
      ],
      "source": [
        "import os\n",
        "print(len(os.listdir('/content/drive/MyDrive/train/Fake')))\n",
        "print(len(os.listdir('/content/drive/MyDrive/train/Real')))\n",
        "print(len(os.listdir('/content/drive/MyDrive/test/Fake1')))\n",
        "print(len(os.listdir('/content/drive/MyDrive/test/Real')))"
      ]
    },
    {
      "cell_type": "code",
      "execution_count": null,
      "metadata": {
        "colab": {
          "base_uri": "https://localhost:8080/"
        },
        "id": "2dnArXx-PnIO",
        "outputId": "26ed35d4-a115-44b8-9b37-05cd1ad1b0c4"
      },
      "outputs": [
        {
          "name": "stdout",
          "output_type": "stream",
          "text": [
            "Found 841 images belonging to 2 classes.\n",
            "Found 210 images belonging to 2 classes.\n"
          ]
        }
      ],
      "source": [
        "import tensorflow as tf\n",
        "from tensorflow.keras.preprocessing.image import ImageDataGenerator\n",
        "\n",
        "# Create ImageDataGenerator for training set\n",
        "train_datagen = ImageDataGenerator(\n",
        "    rescale=1./255,\n",
        "    validation_split=0.2  # Split 20% of the images for validation\n",
        ")\n",
        "\n",
        "# Load and prepare training data\n",
        "train_data = train_datagen.flow_from_directory(\n",
        "    train_dir,\n",
        "    target_size=(256,256),\n",
        "    batch_size=32,\n",
        "    class_mode='binary',  # 'binary' for binary classification (cats vs. dogs)\n",
        "    subset='training'  # Specify 'training' for the training set\n",
        ")\n",
        "\n",
        "# Create ImageDataGenerator for validation set\n",
        "validation_datagen = ImageDataGenerator(\n",
        "    rescale=1./255,\n",
        "    validation_split=0.2  # Note: Using the same validation split as in the training set\n",
        ")\n",
        "\n",
        "# Load and prepare validation data\n",
        "validation_data = validation_datagen.flow_from_directory(\n",
        "    train_dir,\n",
        "    target_size=(256,256),\n",
        "    batch_size=32,\n",
        "    class_mode='binary',\n",
        "    subset='validation'  # Specify 'validation' for the validation set\n",
        ")"
      ]
    },
    {
      "cell_type": "code",
      "execution_count": null,
      "metadata": {
        "colab": {
          "base_uri": "https://localhost:8080/"
        },
        "id": "R6cWOlGAPryQ",
        "outputId": "1577fba0-6eb4-41a3-9c7b-462c47bd06d1"
      },
      "outputs": [
        {
          "name": "stdout",
          "output_type": "stream",
          "text": [
            "Downloading data from https://storage.googleapis.com/tensorflow/keras-applications/resnet/resnet50_weights_tf_dim_ordering_tf_kernels_notop.h5\n",
            "94765736/94765736 [==============================] - 3s 0us/step\n"
          ]
        }
      ],
      "source": [
        "from tensorflow import keras\n",
        "from keras import Sequential\n",
        "from keras.layers import Dense,Conv2D,MaxPooling2D,Flatten\n",
        "\n",
        "resnet_model = Sequential()    #ResNet50 is a pre-trained model\n",
        "pretrained_model = tf.keras.applications.ResNet50(include_top = False, #because i have my own image of a diff dimension\n",
        "                                                input_shape = (256,256,3),\n",
        "                                                pooling = 'max', classes = 2,\n",
        "                                                weights = 'imagenet')\n",
        "for layer in pretrained_model.layers:\n",
        "    layer.trainable = False  #all layers in the Resnet50 is not trainable; keep those weights; I am going to add my own i/p and other layers\n",
        "\n",
        "resnet_model.add(pretrained_model)\n",
        "resnet_model.add(Flatten())\n",
        "resnet_model.add(Dense(512, activation = 'relu'))\n",
        "resnet_model.add(Dense(1, activation = 'sigmoid'))"
      ]
    },
    {
      "cell_type": "code",
      "execution_count": null,
      "metadata": {
        "colab": {
          "base_uri": "https://localhost:8080/"
        },
        "id": "hp054UpiQJX7",
        "outputId": "a97063e0-1d32-4d45-852f-487951e60ede"
      },
      "outputs": [
        {
          "name": "stdout",
          "output_type": "stream",
          "text": [
            "Model: \"sequential\"\n",
            "_________________________________________________________________\n",
            " Layer (type)                Output Shape              Param #   \n",
            "=================================================================\n",
            " resnet50 (Functional)       (None, 2048)              23587712  \n",
            "                                                                 \n",
            " flatten (Flatten)           (None, 2048)              0         \n",
            "                                                                 \n",
            " dense (Dense)               (None, 512)               1049088   \n",
            "                                                                 \n",
            " dense_1 (Dense)             (None, 1)                 513       \n",
            "                                                                 \n",
            "=================================================================\n",
            "Total params: 24637313 (93.98 MB)\n",
            "Trainable params: 1049601 (4.00 MB)\n",
            "Non-trainable params: 23587712 (89.98 MB)\n",
            "_________________________________________________________________\n"
          ]
        }
      ],
      "source": [
        "resnet_model.summary()"
      ]
    },
    {
      "cell_type": "code",
      "execution_count": null,
      "metadata": {
        "id": "rFJA0p76QSB9"
      },
      "outputs": [],
      "source": [
        "from keras.optimizers import Adam\n",
        "resnet_model.compile(optimizer=Adam(learning_rate=0.001),loss='binary_crossentropy',metrics=['accuracy']) #binary_crossentropy - binary classification"
      ]
    },
    {
      "cell_type": "code",
      "execution_count": null,
      "metadata": {
        "colab": {
          "background_save": true,
          "base_uri": "https://localhost:8080/"
        },
        "id": "g1TQKCAMQZSz",
        "outputId": "2c2e232f-b52f-47d1-9113-4558b0136a7b"
      },
      "outputs": [
        {
          "name": "stdout",
          "output_type": "stream",
          "text": [
            "Epoch 1/3\n",
            "27/27 [==============================] - 531s 19s/step - loss: 2.6465 - accuracy: 0.4923 - val_loss: 0.9033 - val_accuracy: 0.4810\n",
            "Epoch 2/3\n",
            "27/27 [==============================] - 288s 11s/step - loss: 0.7599 - accuracy: 0.5077 - val_loss: 0.7216 - val_accuracy: 0.4952\n",
            "Epoch 3/3\n",
            "27/27 [==============================] - 286s 11s/step - loss: 0.7228 - accuracy: 0.5493 - val_loss: 0.6958 - val_accuracy: 0.5000\n"
          ]
        }
      ],
      "source": [
        "history = resnet_model.fit(train_data, epochs=3, validation_data=validation_data)"
      ]
    },
    {
      "cell_type": "code",
      "source": [
        "import matplotlib.pyplot as plt\n",
        "\n",
        "plt.plot(history.history['accuracy'],color='red',label='train')\n",
        "plt.plot(history.history['val_accuracy'],color='blue',label='validation')\n",
        "plt.legend()\n",
        "plt.show()"
      ],
      "metadata": {
        "colab": {
          "base_uri": "https://localhost:8080/",
          "height": 430
        },
        "id": "2fE73HapZmag",
        "outputId": "501d53b2-dd21-42c0-b416-7c9b9be5cd92"
      },
      "execution_count": null,
      "outputs": [
        {
          "output_type": "display_data",
          "data": {
            "text/plain": [
              "<Figure size 640x480 with 1 Axes>"
            ],
            "image/png": "[encoded data removed]"
          },
          "metadata": {}
        }
      ]
    },
    {
      "cell_type": "code",
      "source": [
        "plt.plot(history.history['loss'],color='red',label='train')\n",
        "plt.plot(history.history['val_loss'],color='blue',label='validation')\n",
        "plt.legend()\n",
        "plt.show()"
      ],
      "metadata": {
        "colab": {
          "base_uri": "https://localhost:8080/",
          "height": 430
        },
        "id": "6FVVJP4GZ1Xn",
        "outputId": "e79e85d2-9e2f-4b56-8793-38f9a73cfced"
      },
      "execution_count": null,
      "outputs": [
        {
          "output_type": "display_data",
          "data": {
            "text/plain": [
              "<Figure size 640x480 with 1 Axes>"
            ],
            "image/png": "[encoded data removed]"
          },
          "metadata": {}
        }
      ]
    },
    {
      "cell_type": "code",
      "source": [
        "test_datagen = ImageDataGenerator(rescale=1./255)\n",
        "test_data = test_datagen.flow_from_directory(\n",
        "    test_dir,\n",
        "    target_size=(256,256),\n",
        "    batch_size=32,\n",
        "    class_mode='binary'\n",
        ")"
      ],
      "metadata": {
        "colab": {
          "base_uri": "https://localhost:8080/"
        },
        "id": "DXAu6s0vaBLH",
        "outputId": "7e97b380-ce3c-47fa-8d94-6fec2c89e3a6"
      },
      "execution_count": null,
      "outputs": [
        {
          "output_type": "stream",
          "name": "stdout",
          "text": [
            "Found 520 images belonging to 2 classes.\n"
          ]
        }
      ]
    },
    {
      "cell_type": "code",
      "source": [
        "#predict the test data\n",
        "predictions = resnet_model.predict(test_data)\n",
        "print(predictions)"
      ],
      "metadata": {
        "colab": {
          "base_uri": "https://localhost:8080/"
        },
        "id": "mtaevSl6aHtR",
        "outputId": "d4304751-abac-4749-d560-e29170d635cd"
      },
      "execution_count": null,
      "outputs": [
        {
          "output_type": "stream",
          "name": "stdout",
          "text": [
            "17/17 [==============================] - 151s 9s/step\n",
            "[[0.63032913]\n",
            " [0.45385888]\n",
            " [0.49523205]\n",
            " [0.52289015]\n",
            " [0.36011028]\n",
            " [0.6748744 ]\n",
            " [0.6031791 ]\n",
            " [0.44614765]\n",
            " [0.5355752 ]\n",
            " [0.36560872]\n",
            " [0.5067358 ]\n",
            " [0.4346074 ]\n",
            " [0.49325198]\n",
            " [0.6465159 ]\n",
            " [0.3127226 ]\n",
            " [0.61938   ]\n",
            " [0.5189965 ]\n",
            " [0.6268988 ]\n",
            " [0.5816442 ]\n",
            " [0.5877934 ]\n",
            " [0.5648763 ]\n",
            " [0.40472057]\n",
            " [0.5889782 ]\n",
            " [0.6357155 ]\n",
            " [0.5214733 ]\n",
            " [0.50052714]\n",
            " [0.71100694]\n",
            " [0.51762515]\n",
            " [0.44183254]\n",
            " [0.48490846]\n",
            " [0.50120306]\n",
            " [0.52462846]\n",
            " [0.48864087]\n",
            " [0.53051156]\n",
            " [0.49047533]\n",
            " [0.28099015]\n",
            " [0.62745565]\n",
            " [0.49293414]\n",
            " [0.572304  ]\n",
            " [0.5275654 ]\n",
            " [0.60692894]\n",
            " [0.6865504 ]\n",
            " [0.49493513]\n",
            " [0.56144303]\n",
            " [0.4954105 ]\n",
            " [0.58957   ]\n",
            " [0.51909065]\n",
            " [0.5727825 ]\n",
            " [0.73823214]\n",
            " [0.5542128 ]\n",
            " [0.4812263 ]\n",
            " [0.6485214 ]\n",
            " [0.583472  ]\n",
            " [0.7478959 ]\n",
            " [0.45730114]\n",
            " [0.5130809 ]\n",
            " [0.91082335]\n",
            " [0.6399505 ]\n",
            " [0.5300348 ]\n",
            " [0.65155625]\n",
            " [0.36357942]\n",
            " [0.5084489 ]\n",
            " [0.56220484]\n",
            " [0.4533048 ]\n",
            " [0.52867466]\n",
            " [0.60888714]\n",
            " [0.60530216]\n",
            " [0.6397784 ]\n",
            " [0.47611797]\n",
            " [0.42490372]\n",
            " [0.6455096 ]\n",
            " [0.45862776]\n",
            " [0.50981957]\n",
            " [0.5462957 ]\n",
            " [0.44018862]\n",
            " [0.5673486 ]\n",
            " [0.46564972]\n",
            " [0.58896506]\n",
            " [0.47995138]\n",
            " [0.55146027]\n",
            " [0.5258949 ]\n",
            " [0.5964123 ]\n",
            " [0.6150738 ]\n",
            " [0.581469  ]\n",
            " [0.41522306]\n",
            " [0.5045631 ]\n",
            " [0.44931763]\n",
            " [0.41436186]\n",
            " [0.6819933 ]\n",
            " [0.49853918]\n",
            " [0.58537227]\n",
            " [0.44034332]\n",
            " [0.67261773]\n",
            " [0.6139618 ]\n",
            " [0.50259566]\n",
            " [0.5665228 ]\n",
            " [0.5462169 ]\n",
            " [0.5139715 ]\n",
            " [0.5528179 ]\n",
            " [0.5435977 ]\n",
            " [0.6335165 ]\n",
            " [0.5321397 ]\n",
            " [0.47370014]\n",
            " [0.47645906]\n",
            " [0.6300129 ]\n",
            " [0.56092423]\n",
            " [0.29825434]\n",
            " [0.5222502 ]\n",
            " [0.4672792 ]\n",
            " [0.46596256]\n",
            " [0.506309  ]\n",
            " [0.4862137 ]\n",
            " [0.5211525 ]\n",
            " [0.5935607 ]\n",
            " [0.59342784]\n",
            " [0.38801017]\n",
            " [0.55928165]\n",
            " [0.4387286 ]\n",
            " [0.5493265 ]\n",
            " [0.5809072 ]\n",
            " [0.5883869 ]\n",
            " [0.5919272 ]\n",
            " [0.4546317 ]\n",
            " [0.4001971 ]\n",
            " [0.56108105]\n",
            " [0.46506202]\n",
            " [0.4817812 ]\n",
            " [0.5842511 ]\n",
            " [0.6605603 ]\n",
            " [0.6748005 ]\n",
            " [0.7093332 ]\n",
            " [0.3186869 ]\n",
            " [0.50918466]\n",
            " [0.633386  ]\n",
            " [0.5260008 ]\n",
            " [0.6376933 ]\n",
            " [0.45853567]\n",
            " [0.42478916]\n",
            " [0.5935382 ]\n",
            " [0.60131985]\n",
            " [0.47387373]\n",
            " [0.5017863 ]\n",
            " [0.49147442]\n",
            " [0.442031  ]\n",
            " [0.637525  ]\n",
            " [0.47208044]\n",
            " [0.41160163]\n",
            " [0.53767717]\n",
            " [0.59355193]\n",
            " [0.5671632 ]\n",
            " [0.5332185 ]\n",
            " [0.5262641 ]\n",
            " [0.57882893]\n",
            " [0.61313754]\n",
            " [0.4605817 ]\n",
            " [0.55137175]\n",
            " [0.6062997 ]\n",
            " [0.5986332 ]\n",
            " [0.6432667 ]\n",
            " [0.6177888 ]\n",
            " [0.55622184]\n",
            " [0.44136173]\n",
            " [0.46921018]\n",
            " [0.48120996]\n",
            " [0.5780412 ]\n",
            " [0.55153793]\n",
            " [0.67621964]\n",
            " [0.588609  ]\n",
            " [0.54523325]\n",
            " [0.56232536]\n",
            " [0.5931476 ]\n",
            " [0.38356403]\n",
            " [0.45596936]\n",
            " [0.48871386]\n",
            " [0.56781137]\n",
            " [0.54382116]\n",
            " [0.6101977 ]\n",
            " [0.4978497 ]\n",
            " [0.49248174]\n",
            " [0.593803  ]\n",
            " [0.5931926 ]\n",
            " [0.48175314]\n",
            " [0.5291304 ]\n",
            " [0.6474951 ]\n",
            " [0.5462243 ]\n",
            " [0.5124312 ]\n",
            " [0.5509928 ]\n",
            " [0.6052944 ]\n",
            " [0.5898579 ]\n",
            " [0.486775  ]\n",
            " [0.5216517 ]\n",
            " [0.6574593 ]\n",
            " [0.5244709 ]\n",
            " [0.506534  ]\n",
            " [0.5711092 ]\n",
            " [0.47432393]\n",
            " [0.57081336]\n",
            " [0.57753855]\n",
            " [0.57770413]\n",
            " [0.563016  ]\n",
            " [0.5771717 ]\n",
            " [0.53794336]\n",
            " [0.7447892 ]\n",
            " [0.73439384]\n",
            " [0.5346755 ]\n",
            " [0.54350203]\n",
            " [0.44468996]\n",
            " [0.5065005 ]\n",
            " [0.505177  ]\n",
            " [0.52881753]\n",
            " [0.52501017]\n",
            " [0.61409914]\n",
            " [0.51064616]\n",
            " [0.49101546]\n",
            " [0.4783482 ]\n",
            " [0.64061046]\n",
            " [0.59327155]\n",
            " [0.61164373]\n",
            " [0.4232144 ]\n",
            " [0.5118298 ]\n",
            " [0.6360964 ]\n",
            " [0.52197695]\n",
            " [0.5615073 ]\n",
            " [0.5106296 ]\n",
            " [0.54350996]\n",
            " [0.46887973]\n",
            " [0.48787528]\n",
            " [0.5226114 ]\n",
            " [0.5493875 ]\n",
            " [0.5376769 ]\n",
            " [0.5451596 ]\n",
            " [0.4563499 ]\n",
            " [0.5037038 ]\n",
            " [0.51649016]\n",
            " [0.60217065]\n",
            " [0.57826775]\n",
            " [0.50009805]\n",
            " [0.46655595]\n",
            " [0.55229443]\n",
            " [0.5524376 ]\n",
            " [0.60995144]\n",
            " [0.632023  ]\n",
            " [0.51762456]\n",
            " [0.5957202 ]\n",
            " [0.5570768 ]\n",
            " [0.47424617]\n",
            " [0.48624155]\n",
            " [0.41107908]\n",
            " [0.5055654 ]\n",
            " [0.5075403 ]\n",
            " [0.52836716]\n",
            " [0.46757376]\n",
            " [0.44931516]\n",
            " [0.5436308 ]\n",
            " [0.56186324]\n",
            " [0.58967173]\n",
            " [0.5638879 ]\n",
            " [0.46023855]\n",
            " [0.44772246]\n",
            " [0.58139503]\n",
            " [0.5304455 ]\n",
            " [0.5951501 ]\n",
            " [0.55926543]\n",
            " [0.5501404 ]\n",
            " [0.5639144 ]\n",
            " [0.44322187]\n",
            " [0.48593697]\n",
            " [0.47460303]\n",
            " [0.45221862]\n",
            " [0.7166773 ]\n",
            " [0.27999708]\n",
            " [0.53496355]\n",
            " [0.5468908 ]\n",
            " [0.5106657 ]\n",
            " [0.5517056 ]\n",
            " [0.5448467 ]\n",
            " [0.5127537 ]\n",
            " [0.4474581 ]\n",
            " [0.56134063]\n",
            " [0.43973643]\n",
            " [0.7594593 ]\n",
            " [0.5610169 ]\n",
            " [0.5073741 ]\n",
            " [0.42760533]\n",
            " [0.64193416]\n",
            " [0.52997357]\n",
            " [0.48319027]\n",
            " [0.41862172]\n",
            " [0.29617712]\n",
            " [0.62055546]\n",
            " [0.35755864]\n",
            " [0.48438993]\n",
            " [0.52423894]\n",
            " [0.6284639 ]\n",
            " [0.5571184 ]\n",
            " [0.39671582]\n",
            " [0.57389617]\n",
            " [0.4412582 ]\n",
            " [0.56612545]\n",
            " [0.4083432 ]\n",
            " [0.444519  ]\n",
            " [0.32503152]\n",
            " [0.35292155]\n",
            " [0.57305866]\n",
            " [0.4886972 ]\n",
            " [0.5328321 ]\n",
            " [0.5133512 ]\n",
            " [0.524903  ]\n",
            " [0.46038252]\n",
            " [0.5063007 ]\n",
            " [0.6244711 ]\n",
            " [0.5466155 ]\n",
            " [0.63861513]\n",
            " [0.5927681 ]\n",
            " [0.51136243]\n",
            " [0.5295763 ]\n",
            " [0.5918217 ]\n",
            " [0.38819662]\n",
            " [0.58748645]\n",
            " [0.5163124 ]\n",
            " [0.4556235 ]\n",
            " [0.6232592 ]\n",
            " [0.6926101 ]\n",
            " [0.49959457]\n",
            " [0.57569075]\n",
            " [0.4169921 ]\n",
            " [0.6081589 ]\n",
            " [0.3802484 ]\n",
            " [0.54215056]\n",
            " [0.5684486 ]\n",
            " [0.54275626]\n",
            " [0.53655076]\n",
            " [0.6011625 ]\n",
            " [0.5091941 ]\n",
            " [0.4893338 ]\n",
            " [0.5080557 ]\n",
            " [0.54515684]\n",
            " [0.63954157]\n",
            " [0.5058739 ]\n",
            " [0.51065254]\n",
            " [0.61111057]\n",
            " [0.47624326]\n",
            " [0.5613516 ]\n",
            " [0.46065176]\n",
            " [0.38006642]\n",
            " [0.4558859 ]\n",
            " [0.6096128 ]\n",
            " [0.5534957 ]\n",
            " [0.56885874]\n",
            " [0.60764974]\n",
            " [0.5449513 ]\n",
            " [0.42385098]\n",
            " [0.5027274 ]\n",
            " [0.58157974]\n",
            " [0.5519855 ]\n",
            " [0.6869007 ]\n",
            " [0.50485796]\n",
            " [0.54849684]\n",
            " [0.35591814]\n",
            " [0.6616803 ]\n",
            " [0.5659043 ]\n",
            " [0.5072118 ]\n",
            " [0.6453347 ]\n",
            " [0.5539724 ]\n",
            " [0.63682574]\n",
            " [0.5955332 ]\n",
            " [0.5375193 ]\n",
            " [0.2726979 ]\n",
            " [0.49073377]\n",
            " [0.4426895 ]\n",
            " [0.58994466]\n",
            " [0.4131265 ]\n",
            " [0.43358633]\n",
            " [0.5543206 ]\n",
            " [0.5698482 ]\n",
            " [0.32595727]\n",
            " [0.50844723]\n",
            " [0.8074089 ]\n",
            " [0.39249662]\n",
            " [0.7115805 ]\n",
            " [0.6784867 ]\n",
            " [0.5776199 ]\n",
            " [0.4047737 ]\n",
            " [0.50458664]\n",
            " [0.7432363 ]\n",
            " [0.4333222 ]\n",
            " [0.561096  ]\n",
            " [0.5203685 ]\n",
            " [0.59005636]\n",
            " [0.54725224]\n",
            " [0.52086216]\n",
            " [0.4502573 ]\n",
            " [0.7079704 ]\n",
            " [0.6199039 ]\n",
            " [0.6395961 ]\n",
            " [0.60875416]\n",
            " [0.582385  ]\n",
            " [0.45748866]\n",
            " [0.4035527 ]\n",
            " [0.5020559 ]\n",
            " [0.66790587]\n",
            " [0.47952077]\n",
            " [0.3824416 ]\n",
            " [0.48400274]\n",
            " [0.54502064]\n",
            " [0.36035687]\n",
            " [0.60183024]\n",
            " [0.5050864 ]\n",
            " [0.56901413]\n",
            " [0.5014418 ]\n",
            " [0.6450643 ]\n",
            " [0.4807378 ]\n",
            " [0.68891156]\n",
            " [0.62264746]\n",
            " [0.49513823]\n",
            " [0.5650266 ]\n",
            " [0.46050557]\n",
            " [0.5699724 ]\n",
            " [0.5840134 ]\n",
            " [0.59390247]\n",
            " [0.5098729 ]\n",
            " [0.5397888 ]\n",
            " [0.48577818]\n",
            " [0.50890976]\n",
            " [0.5694382 ]\n",
            " [0.47108522]\n",
            " [0.50264233]\n",
            " [0.5582728 ]\n",
            " [0.47460654]\n",
            " [0.5040627 ]\n",
            " [0.55163765]\n",
            " [0.45231357]\n",
            " [0.5659886 ]\n",
            " [0.46868217]\n",
            " [0.480643  ]\n",
            " [0.5012822 ]\n",
            " [0.49479175]\n",
            " [0.54421514]\n",
            " [0.69915307]\n",
            " [0.4455771 ]\n",
            " [0.56129974]\n",
            " [0.68979406]\n",
            " [0.54438186]\n",
            " [0.4669181 ]\n",
            " [0.54467434]\n",
            " [0.57028687]\n",
            " [0.63013536]\n",
            " [0.43297663]\n",
            " [0.552052  ]\n",
            " [0.7740517 ]\n",
            " [0.48479792]\n",
            " [0.45977822]\n",
            " [0.60430574]\n",
            " [0.61815643]\n",
            " [0.60570174]\n",
            " [0.5273684 ]\n",
            " [0.64335674]\n",
            " [0.5624598 ]\n",
            " [0.44217682]\n",
            " [0.55793035]\n",
            " [0.5049007 ]\n",
            " [0.5683279 ]\n",
            " [0.56129247]\n",
            " [0.47593042]\n",
            " [0.52881795]\n",
            " [0.5645154 ]\n",
            " [0.4367884 ]\n",
            " [0.42876315]\n",
            " [0.6618713 ]\n",
            " [0.53443414]\n",
            " [0.49320647]\n",
            " [0.3873143 ]\n",
            " [0.6498772 ]\n",
            " [0.39818886]\n",
            " [0.61885065]\n",
            " [0.4395329 ]\n",
            " [0.56576777]\n",
            " [0.46759596]\n",
            " [0.5416172 ]\n",
            " [0.66787285]\n",
            " [0.5492251 ]\n",
            " [0.5635531 ]\n",
            " [0.57524455]\n",
            " [0.29597363]\n",
            " [0.65571135]\n",
            " [0.6501947 ]\n",
            " [0.61239076]\n",
            " [0.5206466 ]\n",
            " [0.6112077 ]\n",
            " [0.56600285]\n",
            " [0.5312602 ]\n",
            " [0.4830997 ]\n",
            " [0.52926344]\n",
            " [0.5441831 ]\n",
            " [0.61539507]\n",
            " [0.57970005]\n",
            " [0.4679077 ]\n",
            " [0.6862006 ]\n",
            " [0.52620584]\n",
            " [0.5983224 ]\n",
            " [0.6025979 ]\n",
            " [0.48206982]\n",
            " [0.5987907 ]\n",
            " [0.49439928]\n",
            " [0.5057701 ]\n",
            " [0.4973511 ]\n",
            " [0.59796643]\n",
            " [0.5625243 ]\n",
            " [0.5516632 ]\n",
            " [0.5968915 ]\n",
            " [0.35960826]\n",
            " [0.3700013 ]\n",
            " [0.53856665]\n",
            " [0.51731783]\n",
            " [0.55824697]\n",
            " [0.61551493]\n",
            " [0.5586558 ]\n",
            " [0.55012965]\n",
            " [0.47514758]\n",
            " [0.38602987]]\n"
          ]
        }
      ]
    },
    {
      "cell_type": "code",
      "source": [
        "len(predictions)"
      ],
      "metadata": {
        "colab": {
          "base_uri": "https://localhost:8080/"
        },
        "id": "FyBDq4FMfzLd",
        "outputId": "66615223-8c5c-4ebb-98f5-dd7336e544d3"
      },
      "execution_count": 13,
      "outputs": [
        {
          "output_type": "execute_result",
          "data": {
            "text/plain": [
              "520"
            ]
          },
          "metadata": {},
          "execution_count": 13
        }
      ]
    },
    {
      "cell_type": "code",
      "source": [
        "from sklearn.metrics import confusion_matrix, classification_report\n",
        "\n",
        "# Assuming you have ground truth labels (true_labels) and predicted labels (predictions)\n",
        "true_labels = test_data.classes\n",
        "predicted_labels = (predictions > 0.5).astype(int)  # Adjust the threshold as needed\n",
        "\n",
        "# Calculate confusion matrix\n",
        "cm = confusion_matrix(true_labels, predicted_labels)\n",
        "\n",
        "# Print confusion matrix\n",
        "print(\"Confusion Matrix:\")\n",
        "print(cm)\n",
        "\n",
        "# Print classification report\n",
        "print(\"Classification Report:\")\n",
        "print(classification_report(true_labels, predicted_labels))"
      ],
      "metadata": {
        "colab": {
          "base_uri": "https://localhost:8080/"
        },
        "id": "cD1PcPrRf6o7",
        "outputId": "82ca5f5f-ee89-485b-c00b-e839d9d526e1"
      },
      "execution_count": 14,
      "outputs": [
        {
          "output_type": "stream",
          "name": "stdout",
          "text": [
            "Confusion Matrix:\n",
            "[[ 77 179]\n",
            " [ 85 179]]\n",
            "Classification Report:\n",
            "              precision    recall  f1-score   support\n",
            "\n",
            "           0       0.48      0.30      0.37       256\n",
            "           1       0.50      0.68      0.58       264\n",
            "\n",
            "    accuracy                           0.49       520\n",
            "   macro avg       0.49      0.49      0.47       520\n",
            "weighted avg       0.49      0.49      0.47       520\n",
            "\n"
          ]
        }
      ]
    }
  ],
  "metadata": {
    "colab": {
      "provenance": [],
      "authorship_tag": "ABX9TyMHwl55qJRhhqn12OjEydXO",
      "include_colab_link": true
    },
    "kernelspec": {
      "display_name": "Python 3",
      "name": "python3"
    },
    "language_info": {
      "name": "python"
    }
  },
  "nbformat": 4,
  "nbformat_minor": 0
}